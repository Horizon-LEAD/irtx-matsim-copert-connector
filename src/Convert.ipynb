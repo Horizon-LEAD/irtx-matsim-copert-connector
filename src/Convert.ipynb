{
 "cells": [
  {
   "cell_type": "code",
   "execution_count": null,
   "id": "ce0e475c",
   "metadata": {},
   "outputs": [],
   "source": [
    "import json\n",
    "import pandas as pd\n",
    "import numpy as np"
   ]
  },
  {
   "cell_type": "code",
   "execution_count": null,
   "id": "4384adb2",
   "metadata": {
    "tags": [
     "parameters"
    ]
   },
   "outputs": [],
   "source": [
    "configuration_path = \"data/configuration.json\"\n",
    "trips_path = \"data/trips.csv\"\n",
    "output_path = \"data/output/\"\n",
    "output_file = output_path + \"copert.xlsx\"\n",
    "year = 2022"
   ]
  },
  {
   "cell_type": "markdown",
   "id": "c661d655",
   "metadata": {},
   "source": [
    "## Read data"
   ]
  },
  {
   "cell_type": "code",
   "execution_count": null,
   "id": "ccf50616",
   "metadata": {},
   "outputs": [],
   "source": [
    "with open(configuration_path) as f:\n",
    "    configuration = json.load(f)"
   ]
  },
  {
   "cell_type": "code",
   "execution_count": null,
   "id": "0419a4cc",
   "metadata": {},
   "outputs": [],
   "source": [
    "df_trips = pd.read_csv(trips_path, sep = \";\")"
   ]
  },
  {
   "cell_type": "code",
   "execution_count": null,
   "id": "f4962fc4",
   "metadata": {},
   "outputs": [],
   "source": [
    "f_midnight = df_trips[\"departure_time\"] > 24 * 3600\n",
    "while np.count_nonzero(f_midnight) > 0:\n",
    "    df_trips.loc[f_midnight, \"departure_time\"] -= 24 * 3600\n",
    "    f_midnight = df_trips[\"departure_time\"] > 24 * 3600"
   ]
  },
  {
   "cell_type": "markdown",
   "id": "18ec3368",
   "metadata": {},
   "source": [
    "## Prepare general data"
   ]
  },
  {
   "cell_type": "code",
   "execution_count": null,
   "id": "2d02cbab",
   "metadata": {},
   "outputs": [],
   "source": [
    "months = [\n",
    "    \"January\", \"February\", \"March\", \"April\", \"May\", \"June\", \"July\", \n",
    "    \"August\", \"September\", \"October\", \"November\", \"December\"]"
   ]
  },
  {
   "cell_type": "code",
   "execution_count": null,
   "id": "86347515",
   "metadata": {},
   "outputs": [],
   "source": [
    "df_min_temperature = pd.DataFrame.from_records([\n",
    "    { \"Month\": month, str(year): temperature }\n",
    "    for temperature, month in zip(configuration[\"temperature\"][\"min\"], months)\n",
    "])\n",
    "\n",
    "df_max_temperature = pd.DataFrame.from_records([\n",
    "    { \"Month\": month, str(year): temperature }\n",
    "    for temperature, month in zip(configuration[\"temperature\"][\"max\"], months)\n",
    "])"
   ]
  },
  {
   "cell_type": "code",
   "execution_count": null,
   "id": "86106acd",
   "metadata": {},
   "outputs": [],
   "source": [
    "df_humidity = pd.DataFrame.from_records([\n",
    "    { \"Month\": month, str(year): humidity }\n",
    "    for humidity, month in zip(configuration[\"humidity\"], months)\n",
    "])"
   ]
  },
  {
   "cell_type": "code",
   "execution_count": null,
   "id": "61cddfea",
   "metadata": {},
   "outputs": [],
   "source": [
    "df_sheets = pd.DataFrame.from_records([\n",
    "    { \"SHEET_NAME\": \"STOCK\", \"Unit\": \"[n]\" },\n",
    "    { \"SHEET_NAME\": \"MEAN_ACTIVITY\", \"Unit\": \"[km]\" },\n",
    "    { \"SHEET_NAME\": \"URBAN_OFF_PEAK_SPEED\", \"Unit\": \"[km/h]\" },\n",
    "    { \"SHEET_NAME\": \"URBAN_PEAK_SPEED\", \"Unit\": \"[km/h]\" },\n",
    "    { \"SHEET_NAME\": \"URBAN_OFF_PEAK_SHARE\", \"Unit\": \"[%]\" },\n",
    "    { \"SHEET_NAME\": \"URBAN_PEAK_SHARE\", \"Unit\": \"[%]\" },\n",
    "    { \"SHEET_NAME\": \"MIN_TEMPERATURE\", \"Unit\": \"[°C]\" },\n",
    "    { \"SHEET_NAME\": \"MAX_TEMPERATURE\", \"Unit\": \"[°C]\" },\n",
    "    { \"SHEET_NAME\": \"HUMIDITY\", \"Unit\": \"[%]\" },\n",
    "    { \"SHEET_NAME\": \"FUEL_TANK_SIZE\", \"Unit\": \"[l]\" },\n",
    "])"
   ]
  },
  {
   "cell_type": "markdown",
   "id": "fb01f589",
   "metadata": {},
   "source": [
    "## By mode"
   ]
  },
  {
   "cell_type": "code",
   "execution_count": null,
   "id": "bc180dcb",
   "metadata": {},
   "outputs": [],
   "source": [
    "mode_offpeak_speeds = { mode: np.nan for mode in configuration[\"mode_mapping\"].keys() }\n",
    "mode_peak_speeds = { mode: np.nan for mode in configuration[\"mode_mapping\"].keys() }\n",
    "\n",
    "mode_offpeak_share = { mode: np.nan for mode in configuration[\"mode_mapping\"].keys() }\n",
    "mode_peak_share = { mode: np.nan for mode in configuration[\"mode_mapping\"].keys() }\n",
    "\n",
    "mode_counts = { mode: 0 for mode in configuration[\"mode_mapping\"].keys() }\n",
    "mode_distances = { mode: 0.0 for mode in configuration[\"mode_mapping\"].keys() }\n",
    "\n",
    "f_peak = np.zeros((len(df_trips),), dtype = bool)\n",
    "\n",
    "for peak in configuration[\"peaks\"]:\n",
    "    f_peak |= df_trips[\"departure_time\"].between(peak[\"start\"], peak[\"end\"])\n",
    "\n",
    "for mode, config in configuration[\"mode_mapping\"].items():\n",
    "    f = df_trips[\"mode\"] == mode\n",
    "    sampling_rate = config[\"sampling_rate\"]\n",
    "    mode_counts[mode] = len(df_trips[f][\"person_id\"].unique()) / sampling_rate\n",
    "    mode_distances[mode] += df_trips[f][\"routed_distance\"].sum() * 1e-3 / sampling_rate\n",
    "    \n",
    "    peak_speeds = (df_trips[f & f_peak][\"routed_distance\"] * 1e-3) / (df_trips[f & f_peak][\"travel_time\"] / 3600)\n",
    "    offpeak_speeds = (df_trips[f & ~f_peak][\"routed_distance\"] * 1e-3) / (df_trips[f & ~f_peak][\"travel_time\"] / 3600)\n",
    "\n",
    "    if not peak_speeds.empty or offpeak_speeds.empty: continue\n",
    "\n",
    "    peak_speeds = peak_speeds.values\n",
    "    offpeak_speeds = offpeak_speeds.values\n",
    "    \n",
    "    peak_speeds = peak_speeds[np.isfinite(peak_speeds)]\n",
    "    offpeak_speeds = offpeak_speeds[np.isfinite(offpeak_speeds)]\n",
    "    \n",
    "    peak_speeds = np.sort(peak_speeds)\n",
    "    offpeak_speeds = np.sort(offpeak_speeds)\n",
    "    \n",
    "    peak_speeds = peak_speeds[peak_speeds >= np.quantile(peak_speeds, 0.1)]\n",
    "    offpeak_speeds = offpeak_speeds[offpeak_speeds >= np.quantile(offpeak_speeds, 0.1)]\n",
    "    \n",
    "    mode_offpeak_speeds[mode] = np.mean(peak_speeds)\n",
    "    mode_peak_speeds[mode] = np.mean(offpeak_speeds)\n",
    "    \n",
    "    mode_offpeak_share[mode] = np.count_nonzero(f & ~f_peak) / np.count_nonzero(f)\n",
    "    mode_peak_share[mode] = np.count_nonzero(f & f_peak) / np.count_nonzero(f)"
   ]
  },
  {
   "cell_type": "code",
   "execution_count": null,
   "id": "dbad5f39",
   "metadata": {},
   "outputs": [],
   "source": [
    "df_stock = []\n",
    "df_mean_activity = []\n",
    "\n",
    "df_peak_speed = []\n",
    "df_offpeak_speed = []\n",
    "\n",
    "df_peak_share = []\n",
    "df_offpeak_share = []\n",
    "\n",
    "df_fuel_tank_size = []"
   ]
  },
  {
   "cell_type": "code",
   "execution_count": null,
   "id": "b64cfdb5",
   "metadata": {},
   "outputs": [],
   "source": [
    "for mode, config in configuration[\"mode_mapping\"].items():\n",
    "    common = {\n",
    "        \"Category\": config[\"category\"],\n",
    "        \"Fuel\": config[\"fuel\"],\n",
    "        \"Segment\": config[\"segment\"],\n",
    "        \"Euro Standard\": config[\"euro_standard\"]\n",
    "    }\n",
    "    \n",
    "    peak_share = {}\n",
    "    peak_share.update(common)\n",
    "    peak_share[str(year)] = mode_peak_share[mode] * 100.0\n",
    "    df_peak_share.append(peak_share)\n",
    "    \n",
    "    offpeak_share = {}\n",
    "    offpeak_share.update(common)\n",
    "    offpeak_share[str(year)] = mode_offpeak_share[mode] * 100.0\n",
    "    df_offpeak_share.append(offpeak_share)\n",
    "    \n",
    "    peak_speed = {}\n",
    "    peak_speed.update(common)\n",
    "    peak_speed[str(year)] = mode_peak_speeds[mode]\n",
    "    df_peak_speed.append(peak_speed)\n",
    "    \n",
    "    offpeak_speed = {}\n",
    "    offpeak_speed.update(common)\n",
    "    offpeak_speed[str(year)] = mode_offpeak_speeds[mode]\n",
    "    df_offpeak_speed.append(offpeak_speed)\n",
    "    \n",
    "    fuel_tank_size = {}\n",
    "    fuel_tank_size.update(common)\n",
    "    fuel_tank_size[str(year)] = config[\"fuel_tank_size\"]\n",
    "    df_fuel_tank_size.append(fuel_tank_size)\n",
    "    \n",
    "    stock = {}\n",
    "    stock.update(common)\n",
    "    stock[str(year)] = mode_counts[mode]\n",
    "    df_stock.append(stock)\n",
    "    \n",
    "    mean_activity = {}\n",
    "    mean_activity.update(common)\n",
    "    mean_activity[str(year)] = mode_distances[mode]\n",
    "    df_mean_activity.append(mean_activity)"
   ]
  },
  {
   "cell_type": "code",
   "execution_count": null,
   "id": "43c5e57d",
   "metadata": {},
   "outputs": [],
   "source": [
    "df_peak_share = pd.DataFrame.from_records(df_peak_share)\n",
    "df_offpeak_share = pd.DataFrame.from_records(df_offpeak_share)\n",
    "df_peak_speed= pd.DataFrame.from_records(df_peak_speed)\n",
    "df_offpeak_speed = pd.DataFrame.from_records(df_offpeak_speed)\n",
    "df_fuel_tank_size = pd.DataFrame.from_records(df_fuel_tank_size)\n",
    "df_stock = pd.DataFrame.from_records(df_stock)\n",
    "df_mean_activity = pd.DataFrame.from_records(df_mean_activity)"
   ]
  },
  {
   "cell_type": "markdown",
   "id": "813739a2",
   "metadata": {},
   "source": [
    "## Output"
   ]
  },
  {
   "cell_type": "code",
   "execution_count": null,
   "id": "ae8a7606",
   "metadata": {},
   "outputs": [],
   "source": [
    "with pd.ExcelWriter(output_file, engine=\"openpyxl\") as writer:\n",
    "    df_sheets.to_excel(writer, index = False, sheet_name = \"SHEETS\")\n",
    "    df_stock.to_excel(writer, index = False, sheet_name = \"STOCK\")\n",
    "    df_mean_activity.to_excel(writer, index = False, sheet_name = \"MEAN_ACTIVITY\")\n",
    "    df_offpeak_speed.to_excel(writer, index = False, sheet_name = \"URBAN_OFFPEAK_SPEED\")\n",
    "    df_peak_speed.to_excel(writer, index = False, sheet_name = \"URBAN_PEAK_SPEED\")\n",
    "    df_offpeak_share.to_excel(writer, index = False, sheet_name = \"URBAN_OFFPEAK_SHARE\")\n",
    "    df_peak_share.to_excel(writer, index = False, sheet_name = \"URBAN_PEAK_SHARE\")\n",
    "    df_min_temperature.to_excel(writer, index = False, sheet_name = \"MIN_TEMPERATURE\")\n",
    "    df_max_temperature.to_excel(writer, index = False, sheet_name = \"MAX_TEMPERATURE\")\n",
    "    df_humidity.to_excel(writer, index = False, sheet_name = \"HUMIDITY\")\n",
    "    df_fuel_tank_size.to_excel(writer, index = False, sheet_name = \"FUEL_TANK_SIZE\")"
   ]
  },
  {
   "cell_type": "code",
   "execution_count": null,
   "id": "2de8928e",
   "metadata": {},
   "outputs": [],
   "source": []
  }
 ],
 "metadata": {
  "celltoolbar": "Tags",
  "kernelspec": {
   "display_name": "Python 3 (ipykernel)",
   "language": "python",
   "name": "python3"
  },
  "language_info": {
   "codemirror_mode": {
    "name": "ipython",
    "version": 3
   },
   "file_extension": ".py",
   "mimetype": "text/x-python",
   "name": "python",
   "nbconvert_exporter": "python",
   "pygments_lexer": "ipython3",
   "version": "3.10.10"
  }
 },
 "nbformat": 4,
 "nbformat_minor": 5
}
